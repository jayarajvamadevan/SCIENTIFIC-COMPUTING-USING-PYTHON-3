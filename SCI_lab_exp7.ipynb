{
 "cells": [
  {
   "cell_type": "code",
   "execution_count": 143,
   "metadata": {},
   "outputs": [],
   "source": [
    "# Experiment 7: \n",
    "# Experiment 7a: CSV file creation\n",
    "import csv\n",
    "with open('123.csv', 'w', newline='') as file:\n",
    "    writer = csv.writer(file)\n",
    "    writer.writerow([1, 90])\n",
    "    writer.writerow([2, 80])\n",
    "    writer.writerow([3,70])\n",
    "    writer.writerow([4,40])\n",
    "    writer.writerow([5,45])\n",
    "    writer.writerow([6,90])\n",
    "    writer.writerow([7,70])\n",
    "    writer.writerow([8,40])\n",
    "    writer.writerow([9,45])\n",
    "    writer.writerow([10,90])\n"
   ]
  },
  {
   "cell_type": "code",
   "execution_count": 144,
   "metadata": {
    "scrolled": true
   },
   "outputs": [
    {
     "name": "stdout",
     "output_type": "stream",
     "text": [
      "['1', '90']\n",
      "['2', '80']\n",
      "['3', '70']\n",
      "['4', '40']\n",
      "['5', '45']\n",
      "['6', '90']\n",
      "['7', '70']\n",
      "['8', '40']\n",
      "['9', '45']\n",
      "['10', '90']\n"
     ]
    }
   ],
   "source": [
    "# Experiment 7b:CSV file Reading\n",
    "import csv\n",
    "with open('123.csv', 'r') as file:\n",
    "    \n",
    "    reader = csv.reader(file)\n",
    "    for row in reader:\n",
    "        \n",
    "        print(row)"
   ]
  },
  {
   "cell_type": "code",
   "execution_count": 155,
   "metadata": {},
   "outputs": [
    {
     "data": {
      "image/png": "[encoded data removed]",
      "text/plain": [
       "<Figure size 432x288 with 1 Axes>"
      ]
     },
     "metadata": {
      "needs_background": "light"
     },
     "output_type": "display_data"
    }
   ],
   "source": [
    "# Experiment 7b: CSV file plotting\n",
    "import matplotlib.pyplot as plt\n",
    "import numpy as np\n",
    "\n",
    "data = np.genfromtxt(\"123.csv\", delimiter=\",\", names=[\"x\", \"y\"])\n",
    "plt.stem(data['x'],data['y'], use_line_collection = True)\n",
    "\n",
    "plt.xlabel('Roll No')\n",
    "plt.ylabel('Marks')\n",
    "plt.title('CSV plotting')\n",
    "plt.show()\n",
    "\n"
   ]
  },
  {
   "cell_type": "code",
   "execution_count": 156,
   "metadata": {},
   "outputs": [
    {
     "name": "stdout",
     "output_type": "stream",
     "text": [
      "The Mean value is: 66.0\n",
      "The Standard deviation is: 20.46948949045872\n"
     ]
    },
    {
     "data": {
      "text/plain": [
       "Text(22.516438439504594, 2.835, 'Standard Deviation: 20.47')"
      ]
     },
     "execution_count": 156,
     "metadata": {},
     "output_type": "execute_result"
    },
    {
     "data": {
      "image/png": "[encoded data removed]",
      "text/plain": [
       "<Figure size 432x288 with 1 Axes>"
      ]
     },
     "metadata": {
      "needs_background": "light"
     },
     "output_type": "display_data"
    }
   ],
   "source": [
    "# Experiment 7c: Compute the mean and standard deviation of the signal. Plot its his- togram with an appropriate bin size.\n",
    "import numpy\n",
    "\n",
    "data = np.genfromtxt(\"123.csv\", delimiter=\",\", names=[\"x\", \"y\"])\n",
    "\n",
    "x1 = numpy.mean(data['y'])\n",
    "x2 = numpy.std(data['y'])\n",
    "\n",
    "print(\"The Mean value is:\",x1)\n",
    "print(\"The Standard deviation is:\",x2)\n",
    "\n",
    "# Marking both mean and standard deviation in a single histogram\n",
    "\n",
    "plt.hist(data['y'], bins=10, color='g', edgecolor='k', alpha=0.1)\n",
    "plt.axvline(x1, color='r', linestyle='dashed', linewidth=2)\n",
    "min_ylim, max_ylim = plt.ylim()\n",
    "plt.text(x1*1.1, max_ylim*0.9, 'Mean: {:.2f}'.format(x1))\n",
    "\n",
    "plt.hist(data['y'], bins=10, color='g', edgecolor='k', alpha=0.65)\n",
    "plt.axvline(x2, color='b', linestyle='dashdot', linewidth=2)\n",
    "min_ylim, max_ylim = plt.ylim()\n",
    "plt.text(x2*1.1, max_ylim*0.9, 'Standard Deviation: {:.2f}'.format(x2))"
   ]
  },
  {
   "cell_type": "code",
   "execution_count": null,
   "metadata": {},
   "outputs": [],
   "source": []
  },
  {
   "cell_type": "code",
   "execution_count": null,
   "metadata": {},
   "outputs": [],
   "source": []
  }
 ],
 "metadata": {
  "kernelspec": {
   "display_name": "Python 3",
   "language": "python",
   "name": "python3"
  },
  "language_info": {
   "codemirror_mode": {
    "name": "ipython",
    "version": 3
   },
   "file_extension": ".py",
   "mimetype": "text/x-python",
   "name": "python",
   "nbconvert_exporter": "python",
   "pygments_lexer": "ipython3",
   "version": "3.8.3"
  }
 },
 "nbformat": 4,
 "nbformat_minor": 4
}
